{
 "cells": [
  {
   "cell_type": "markdown",
   "metadata": {},
   "source": [
    "# Model Architectures (WIP)"
   ]
  },
  {
   "cell_type": "markdown",
   "metadata": {},
   "source": [
    "The model architectures included come from a wide variety of sources. Sources, including papers, original impl (\"reference code\") that [Ross](https://twitter.com/wightmanr) rewrote / adapted, and PyTorch impl that he leveraged directly (\"code\") are listed below.\n",
    "\n",
    "Most included models have pretrained weights. The weights are either:\n",
    "\n",
    "1. from their original sources\n",
    "2. ported by myself from their original impl in a different framework (e.g. Tensorflow models)\n",
    "3. trained from scratch using the included training script\n",
    "\n",
    "The validation results for the pretrained weights can be found [here](https://rwightman.github.io/pytorch-image-models/results/)."
   ]
  }
 ],
 "metadata": {
  "kernelspec": {
   "display_name": "Python 3",
   "language": "python",
   "name": "python3"
  },
  "language_info": {
   "codemirror_mode": {
    "name": "ipython",
    "version": 3
   },
   "file_extension": ".py",
   "mimetype": "text/x-python",
   "name": "python",
   "nbconvert_exporter": "python",
   "pygments_lexer": "ipython3",
   "version": "3.8.5"
  },
  "toc": {
   "base_numbering": 1,
   "nav_menu": {},
   "number_sections": true,
   "sideBar": true,
   "skip_h1_title": false,
   "title_cell": "Table of Contents",
   "title_sidebar": "Contents",
   "toc_cell": false,
   "toc_position": {},
   "toc_section_display": true,
   "toc_window_display": false
  }
 },
 "nbformat": 4,
 "nbformat_minor": 2
}
